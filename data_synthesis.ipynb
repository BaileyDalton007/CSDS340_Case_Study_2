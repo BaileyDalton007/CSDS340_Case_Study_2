{
 "cells": [
  {
   "cell_type": "markdown",
   "metadata": {},
   "source": [
    "The idea here is that more training examples can be created from our measured dataset. By taking the end of one example and beginning of the next (given that the examples share labels), a new 60 second example can be created and used for training."
   ]
  },
  {
   "cell_type": "markdown",
   "metadata": {},
   "source": []
  }
 ],
 "metadata": {
  "language_info": {
   "name": "python"
  }
 },
 "nbformat": 4,
 "nbformat_minor": 2
}
