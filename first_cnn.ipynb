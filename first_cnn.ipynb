{
 "cells": [
  {
   "cell_type": "code",
   "execution_count": 25,
   "metadata": {},
   "outputs": [],
   "source": [
    "import numpy as np\n",
    "import matplotlib.pyplot as plt\n",
    "from sklearn.metrics import f1_score, accuracy_score\n",
    "\n",
    "import torch\n",
    "import torch.nn as nn\n",
    "import torch.nn.functional as F\n",
    "import torch.optim as optim\n",
    "from torch.utils.data import DataLoader, TensorDataset\n",
    "\n",
    "sensor_names = ['Acc_x', 'Acc_y', 'Acc_z', 'Gyr_x', 'Gyr_y', 'Gyr_z']\n",
    "# Last row of training data for train/test split\n",
    "train_end_index = 3511"
   ]
  },
  {
   "cell_type": "code",
   "execution_count": 26,
   "metadata": {},
   "outputs": [],
   "source": [
    "labels = np.loadtxt('labels_train_1.csv', dtype='int')\n",
    "data_slice_0 = np.loadtxt(sensor_names[0] + '_train_1.csv',\n",
    "                            delimiter=',')\n",
    "data = np.empty((data_slice_0.shape[0], data_slice_0.shape[1],\n",
    "                    len(sensor_names)))\n",
    "data[:, :, 0] = data_slice_0\n",
    "del data_slice_0\n",
    "for sensor_index in range(1, len(sensor_names)):\n",
    "    data[:, :, sensor_index] = np.loadtxt(\n",
    "        sensor_names[sensor_index] + '_train_1.csv', delimiter=',')"
   ]
  },
  {
   "cell_type": "code",
   "execution_count": 27,
   "metadata": {},
   "outputs": [],
   "source": [
    "train_data = data[:train_end_index+1, :, :]\n",
    "train_labels = labels[:train_end_index+1]\n",
    "test_data = data[train_end_index+1:, :, :]\n",
    "test_labels = labels[train_end_index+1:]"
   ]
  },
  {
   "cell_type": "code",
   "execution_count": 28,
   "metadata": {},
   "outputs": [],
   "source": [
    "class FirstCNN(nn.Module):\n",
    "    def __init__(self, num_classes):\n",
    "        \"\"\"\n",
    "        Parameters:\n",
    "        - num_classes: Number of output classes (for classification tasks).\n",
    "        \"\"\"\n",
    "        super(FirstCNN, self).__init__()\n",
    "        \n",
    "        # Convolutional layers\n",
    "        self.conv1 = nn.Conv1d(in_channels=6, out_channels=16, kernel_size=3, stride=1, padding=1)\n",
    "        self.conv2 = nn.Conv1d(in_channels=16, out_channels=32, kernel_size=3, stride=1, padding=1)\n",
    "        self.conv3 = nn.Conv1d(in_channels=32, out_channels=64, kernel_size=3, stride=1, padding=1)\n",
    "        \n",
    "        # Pooling layer\n",
    "        self.pool = nn.MaxPool1d(kernel_size=2, stride=2)\n",
    "        \n",
    "        # Fully connected layers\n",
    "        self.fc1 = nn.Linear(64 * 7, 128)  # Flattened size after convolutions and pooling\n",
    "        self.fc2 = nn.Linear(128, num_classes)\n",
    "        \n",
    "    def forward(self, x):\n",
    "        # Input x shape: (batch_size, 60, 6)\n",
    "        \n",
    "        # Transpose to match Conv1d's expected input: (batch_size, channels, sequence_length)\n",
    "        x = x.permute(0, 2, 1)  # Shape: (batch_size, 6, 60)\n",
    "        \n",
    "        # Convolution + ReLU + Pooling\n",
    "        x = self.pool(F.relu(self.conv1(x)))  # Shape: (batch_size, 16, 30)\n",
    "        x = self.pool(F.relu(self.conv2(x)))  # Shape: (batch_size, 32, 15)\n",
    "        x = self.pool(F.relu(self.conv3(x)))  # Shape: (batch_size, 64, 7)\n",
    "        \n",
    "        # Flatten the features\n",
    "        x = x.view(x.size(0), -1)  # Shape: (batch_size, 64 * 7)\n",
    "        \n",
    "        # Fully connected layers\n",
    "        x = F.relu(self.fc1(x))\n",
    "        x = self.fc2(x)  # No activation; softmax or other applied later if needed\n",
    "        \n",
    "        return x"
   ]
  },
  {
   "cell_type": "code",
   "execution_count": 29,
   "metadata": {},
   "outputs": [
    {
     "name": "stdout",
     "output_type": "stream",
     "text": [
      "Epoch 1/25, Loss: 1.2251\n",
      "Epoch 2/25, Loss: 0.8873\n",
      "Epoch 3/25, Loss: 0.7283\n",
      "Epoch 4/25, Loss: 0.7016\n",
      "Epoch 5/25, Loss: 0.6314\n",
      "Epoch 6/25, Loss: 0.6018\n",
      "Epoch 7/25, Loss: 0.5573\n",
      "Epoch 8/25, Loss: 0.5071\n",
      "Epoch 9/25, Loss: 0.4812\n",
      "Epoch 10/25, Loss: 0.5136\n",
      "Epoch 11/25, Loss: 0.4857\n",
      "Epoch 12/25, Loss: 0.4632\n",
      "Epoch 13/25, Loss: 0.4506\n",
      "Epoch 14/25, Loss: 0.4621\n",
      "Epoch 15/25, Loss: 0.4280\n",
      "Epoch 16/25, Loss: 0.4224\n",
      "Epoch 17/25, Loss: 0.3907\n",
      "Epoch 18/25, Loss: 0.3900\n",
      "Epoch 19/25, Loss: 0.3904\n",
      "Epoch 20/25, Loss: 0.3883\n",
      "Epoch 21/25, Loss: 0.3592\n",
      "Epoch 22/25, Loss: 0.3394\n",
      "Epoch 23/25, Loss: 0.3338\n",
      "Epoch 24/25, Loss: 0.3494\n",
      "Epoch 25/25, Loss: 0.3523\n"
     ]
    }
   ],
   "source": [
    "LEARNING_RATE = 0.001\n",
    "NUM_CLASSES = 4\n",
    "BATCH_SIZE = 256\n",
    "EPOCHS = 25\n",
    "\n",
    "# move model to gpu\n",
    "device = torch.device(\"cuda\" if torch.cuda.is_available() else \"cpu\")\n",
    "\n",
    "train_data_pt = torch.tensor(train_data, dtype=torch.float)\n",
    "train_labels_pt = F.one_hot(torch.tensor(train_labels, dtype=torch.long) - 1,  num_classes=NUM_CLASSES).float()\n",
    "\n",
    "training_dataset = dataset = TensorDataset(train_data_pt.to(device), train_labels_pt.to(device))\n",
    "dataloader = DataLoader(training_dataset, batch_size=BATCH_SIZE, shuffle=False)\n",
    "\n",
    "model = FirstCNN(num_classes=NUM_CLASSES).to(device)\n",
    "\n",
    "\n",
    "criterion = nn.CrossEntropyLoss()  # For classification tasks\n",
    "optimizer = optim.Adam(model.parameters(), lr=LEARNING_RATE)\n",
    "\n",
    "for epoch in range(EPOCHS):\n",
    "    model.train()  # Set model to training mode\n",
    "    running_loss = 0.0\n",
    "    for inputs, targets in dataloader:\n",
    "\n",
    "        # Zero the gradient buffers\n",
    "        optimizer.zero_grad()\n",
    "\n",
    "        # Forward pass\n",
    "        outputs = model(inputs)\n",
    "\n",
    "\n",
    "        # Compute loss\n",
    "        loss = criterion(outputs, targets)\n",
    "\n",
    "        # Backward pass and optimization step\n",
    "        loss.backward()\n",
    "        optimizer.step()\n",
    "\n",
    "        # Accumulate loss\n",
    "        running_loss += loss.item()\n",
    "\n",
    "    print(f\"Epoch {epoch+1}/{EPOCHS}, Loss: {running_loss/len(dataloader):.4f}\")"
   ]
  },
  {
   "cell_type": "code",
   "execution_count": 30,
   "metadata": {},
   "outputs": [],
   "source": [
    "model.eval()  # Set model to evaluation mode\n",
    "with torch.no_grad():\n",
    "    test_data_pt = torch.tensor(test_data, dtype=torch.float)\n",
    "\n",
    "    test_data_pt = test_data_pt.to(device)\n",
    "    \n",
    "    test_outputs = model(test_data_pt)\n",
    "\n",
    "    predicted_classes = torch.argmax(test_outputs, dim=1)"
   ]
  },
  {
   "cell_type": "code",
   "execution_count": 31,
   "metadata": {},
   "outputs": [
    {
     "name": "stdout",
     "output_type": "stream",
     "text": [
      "Accuracy: 0.04532077692760447\n",
      "Micro-averaged F1 score: 0.04532077692760447\n",
      "Macro-averaged F1 score: 0.04711797590771612\n"
     ]
    }
   ],
   "source": [
    "test_labels_pt = torch.tensor(test_labels, dtype=torch.long)\n",
    "\n",
    "# Compute micro and macro-averaged F1 scores\n",
    "accuracy = accuracy_score(test_labels_pt, predicted_classes.cpu())\n",
    "micro_f1 = f1_score(test_labels_pt, predicted_classes.cpu(), average='micro')\n",
    "macro_f1 = f1_score(test_labels_pt, predicted_classes.cpu(), average='macro')\n",
    "print(f'Accuracy: {accuracy}')\n",
    "print(f'Micro-averaged F1 score: {micro_f1}')\n",
    "print(f'Macro-averaged F1 score: {macro_f1}')"
   ]
  }
 ],
 "metadata": {
  "kernelspec": {
   "display_name": "csds340",
   "language": "python",
   "name": "python3"
  },
  "language_info": {
   "codemirror_mode": {
    "name": "ipython",
    "version": 3
   },
   "file_extension": ".py",
   "mimetype": "text/x-python",
   "name": "python",
   "nbconvert_exporter": "python",
   "pygments_lexer": "ipython3",
   "version": "3.12.7"
  }
 },
 "nbformat": 4,
 "nbformat_minor": 2
}
