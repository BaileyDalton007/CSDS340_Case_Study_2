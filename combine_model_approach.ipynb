{
 "cells": [
  {
   "cell_type": "code",
   "execution_count": 1,
   "metadata": {},
   "outputs": [],
   "source": [
    "import numpy as np\n",
    "import matplotlib.pyplot as plt\n",
    "from sklearn.metrics import f1_score, accuracy_score, confusion_matrix, ConfusionMatrixDisplay\n",
    "\n",
    "import torch\n",
    "import torch.nn as nn\n",
    "import torch.nn.functional as F\n",
    "import torch.optim as optim\n",
    "from torch.utils.data import DataLoader, TensorDataset\n",
    "\n",
    "sensor_names = ['Acc_x', 'Acc_y', 'Acc_z', 'Gyr_x', 'Gyr_y', 'Gyr_z']\n",
    "label_names = [\"Resting\", \"Walking\", \"Running\", \"Driving\"]\n",
    "# Last row of training data for train/test split\n",
    "train_end_index = 3511"
   ]
  },
  {
   "cell_type": "code",
   "execution_count": 2,
   "metadata": {},
   "outputs": [],
   "source": [
    "# load in the given \"real\" data\n",
    "# this loading of generated and real data are done seperately to ensure that distrubtions between train and test sets are even.\n",
    "\n",
    "labels = np.loadtxt('labels_train_1.csv', dtype='int')\n",
    "data_slice_0 = np.loadtxt(sensor_names[0] + '_train_1.csv',\n",
    "                            delimiter=',')\n",
    "data = np.empty((data_slice_0.shape[0], data_slice_0.shape[1],\n",
    "                    len(sensor_names)))\n",
    "data[:, :, 0] = data_slice_0\n",
    "del data_slice_0\n",
    "for sensor_index in range(1, len(sensor_names)):\n",
    "    data[:, :, sensor_index] = np.loadtxt(\n",
    "        sensor_names[sensor_index] + '_train_1.csv', delimiter=',')\n",
    "    \n",
    "\n",
    "acc_data = data[:,:, 0:3]\n",
    "gyr_data = data[:,:, 3:6]\n",
    "\n",
    "total_acc = np.linalg.norm(acc_data, axis=-1)\n",
    "total_gyr = np.linalg.norm(gyr_data, axis=-1)\n",
    "\n",
    "\n",
    "total_data = np.stack((total_acc, total_gyr), axis=-1)\n",
    "\n",
    "given_train_data = total_data[:train_end_index+1, :, :]\n",
    "given_train_labels = labels[:train_end_index+1]\n",
    "given_test_data = total_data[train_end_index+1:, :, :]\n",
    "given_test_labels = labels[train_end_index+1:]"
   ]
  },
  {
   "cell_type": "code",
   "execution_count": 3,
   "metadata": {},
   "outputs": [],
   "source": [
    "# now combine given and generated sets\n",
    "\n",
    "# train_data = np.concatenate((given_train_data, gen_train_data), axis=0)\n",
    "# train_labels = np.concatenate((given_train_labels, gen_train_labels), axis=0)\n",
    "# test_data = np.concatenate((given_test_data, gen_test_data), axis=0)\n",
    "# test_labels = np.concatenate((given_test_labels, gen_test_labels), axis=0)\n",
    "\n",
    "train_data = given_train_data\n",
    "train_labels = given_train_labels\n",
    "test_data = given_test_data\n",
    "test_labels = given_test_labels\n"
   ]
  },
  {
   "cell_type": "code",
   "execution_count": 4,
   "metadata": {},
   "outputs": [
    {
     "name": "stdout",
     "output_type": "stream",
     "text": [
      "CNN_RNN_Model(\n",
      "  (cnn): Sequential(\n",
      "    (0): Conv1d(2, 16, kernel_size=(3,), stride=(1,), padding=(1,))\n",
      "    (1): ReLU()\n",
      "    (2): MaxPool1d(kernel_size=2, stride=2, padding=0, dilation=1, ceil_mode=False)\n",
      "    (3): Conv1d(16, 32, kernel_size=(3,), stride=(1,), padding=(1,))\n",
      "    (4): ReLU()\n",
      "    (5): MaxPool1d(kernel_size=2, stride=2, padding=0, dilation=1, ceil_mode=False)\n",
      "  )\n",
      "  (rnn): LSTM(480, 128, num_layers=2, batch_first=True)\n",
      "  (fc): Linear(in_features=128, out_features=4, bias=True)\n",
      ")\n",
      "Output shape: torch.Size([8, 4])\n"
     ]
    }
   ],
   "source": [
    "import torch\n",
    "import torch.nn as nn\n",
    "\n",
    "class CNN_RNN_Model(nn.Module):\n",
    "    def __init__(self, num_classes=4, input_channels=2, feature_length=60, rnn_hidden_size=128, num_rnn_layers=2):\n",
    "        super(CNN_RNN_Model, self).__init__()\n",
    "        \n",
    "        # CNN for feature extraction\n",
    "        self.cnn = nn.Sequential(\n",
    "            nn.Conv1d(in_channels=input_channels, out_channels=16, kernel_size=3, stride=1, padding=1),  # Conv layer\n",
    "            nn.ReLU(),  # Activation\n",
    "            nn.MaxPool1d(kernel_size=2, stride=2),  # Downsampling\n",
    "            nn.Conv1d(in_channels=16, out_channels=32, kernel_size=3, stride=1, padding=1),  # Another Conv layer\n",
    "            nn.ReLU(),\n",
    "            nn.MaxPool1d(kernel_size=2, stride=2)\n",
    "        )\n",
    "        \n",
    "        # Compute the output size after CNN layers\n",
    "        cnn_output_size = 32 * (feature_length // 4)  # Adjust this if CNN structure changes\n",
    "\n",
    "        # RNN for temporal dependency learning\n",
    "        self.rnn = nn.LSTM(input_size=cnn_output_size, \n",
    "                           hidden_size=rnn_hidden_size, \n",
    "                           num_layers=num_rnn_layers, \n",
    "                           batch_first=True)\n",
    "\n",
    "        # Fully connected layer for classification\n",
    "        self.fc = nn.Linear(rnn_hidden_size, num_classes)\n",
    "\n",
    "    def forward(self, x):\n",
    "        # Input shape: (batch_size, seq_length, input_channels, feature_length)\n",
    "        batch_size, seq_length, channels, feature_length = x.size()\n",
    "\n",
    "        # Merge batch and sequence dimensions for CNN processing\n",
    "        x = x.view(-1, channels, feature_length)  # Shape: (batch_size * seq_length, channels, feature_length)\n",
    "        \n",
    "        # Pass through CNN\n",
    "        x = self.cnn(x)  # Shape: (batch_size * seq_length, 32, feature_length // 4)\n",
    "        x = x.view(batch_size, seq_length, -1)  # Reshape back: (batch_size, seq_length, cnn_output_size)\n",
    "\n",
    "        # Pass through RNN\n",
    "        rnn_out, _ = self.rnn(x)  # Shape: (batch_size, seq_length, rnn_hidden_size)\n",
    "\n",
    "        # Use the final output of the RNN for classification\n",
    "        final_output = rnn_out[:, -1, :]  # Shape: (batch_size, rnn_hidden_size)\n",
    "\n",
    "        # Pass through the fully connected layer\n",
    "        out = self.fc(final_output)  # Shape: (batch_size, num_classes)\n",
    "\n",
    "        return out\n",
    "\n",
    "# Model initialization\n",
    "model = CNN_RNN_Model(num_classes=4, input_channels=2, feature_length=60)\n",
    "print(model)\n",
    "\n",
    "# Example input\n",
    "# (batch_size=8, seq_length=10, input_channels=2, feature_length=60)\n",
    "input_data = torch.rand(8, 10, 2, 60)\n",
    "output = model(input_data)\n",
    "print(\"Output shape:\", output.shape)  # Should be (8, 4)\n"
   ]
  },
  {
   "cell_type": "code",
   "execution_count": 18,
   "metadata": {},
   "outputs": [],
   "source": [
    "# create sequences of examples to learn the temporal relationship between them.\n",
    "\n",
    "def create_data_sequences(features, labels, seq_length):\n",
    "    # Generate sequences and corresponding labels\n",
    "    sequences = []\n",
    "    sequence_labels = []\n",
    "\n",
    "    for i in range(len(features) - seq_length + 1):\n",
    "        # Extract a sequence of `seq_length` examples\n",
    "        sequence = features[i:i + seq_length]  # Shape: (seq_length, 60, 2)\n",
    "        sequences.append(sequence.transpose(0, 2, 1))  # Reshape to (seq_length, 2, 60)\n",
    "        \n",
    "        # Use the label of the last example in the sequence as the sequence label\n",
    "        sequence_labels.append(labels[i + seq_length - 1])\n",
    "\n",
    "    # Convert to tensors\n",
    "    sequences = torch.tensor(sequences, dtype=torch.float32)  # Shape: (num_sequences, seq_length, 2, 60)\n",
    "    sequence_labels = torch.tensor(sequence_labels, dtype=torch.long)  # Shape: (num_sequences,)\n",
    "\n",
    "    return sequences, sequence_labels"
   ]
  },
  {
   "cell_type": "code",
   "execution_count": 19,
   "metadata": {},
   "outputs": [],
   "source": [
    "#one_hot_sequence_labels = F.one_hot(sequence_labels-1, num_classes=4).float()\n",
    "\n",
    "sequences, sequence_labels = create_data_sequences(train_data, train_labels, seq_length=5)\n",
    "\n",
    "dataset = TensorDataset(sequences, sequence_labels-1)\n",
    "dataloader = DataLoader(dataset, batch_size=32, shuffle=True)\n",
    "\n",
    "model = CNN_RNN_Model(num_classes=4, input_channels=2, feature_length=60)\n",
    "criterion = nn.CrossEntropyLoss()\n",
    "optimizer = torch.optim.Adam(model.parameters(), lr=0.001)"
   ]
  },
  {
   "cell_type": "code",
   "execution_count": null,
   "metadata": {},
   "outputs": [
    {
     "name": "stdout",
     "output_type": "stream",
     "text": [
      "Epoch [1/10], Loss: 0.9261\n",
      "Epoch [2/10], Loss: 0.5655\n",
      "Epoch [3/10], Loss: 0.4680\n",
      "Epoch [4/10], Loss: 0.4611\n",
      "Epoch [5/10], Loss: 0.4188\n",
      "Epoch [6/10], Loss: 0.3903\n",
      "Epoch [7/10], Loss: 0.4359\n",
      "Epoch [8/10], Loss: 0.3821\n",
      "Epoch [9/10], Loss: 0.3586\n",
      "Epoch [10/10], Loss: 0.3792\n",
      "Training complete!\n"
     ]
    }
   ],
   "source": [
    "# Training loop\n",
    "num_epochs = 50\n",
    "device = torch.device(\"cuda\" if torch.cuda.is_available() else \"cpu\")\n",
    "#device = torch.device(\"cpu\")\n",
    "model.to(device)\n",
    "\n",
    "for epoch in range(num_epochs):\n",
    "    model.train()\n",
    "    running_loss = 0.0\n",
    "    for batch_sequences, batch_labels in dataloader:\n",
    "        batch_sequences, batch_labels = batch_sequences.to(device), batch_labels.to(device)\n",
    "        \n",
    "        # Forward pass\n",
    "        outputs = model(batch_sequences)\n",
    "        predicted_classes = torch.argmax(outputs, dim=1)\n",
    "\n",
    "        loss = criterion(outputs, batch_labels)\n",
    "        \n",
    "        # Backward pass and optimization\n",
    "        optimizer.zero_grad()\n",
    "        loss.backward()\n",
    "        optimizer.step()\n",
    "        \n",
    "        running_loss += loss.item()\n",
    "\n",
    "    # Print epoch loss\n",
    "    print(f\"Epoch [{epoch+1}/{num_epochs}], Loss: {running_loss / len(dataloader):.4f}\")\n",
    "\n",
    "print(\"Training complete!\")"
   ]
  },
  {
   "cell_type": "code",
   "execution_count": 39,
   "metadata": {},
   "outputs": [
    {
     "data": {
      "text/plain": [
       "(1699, 60, 2)"
      ]
     },
     "execution_count": 39,
     "metadata": {},
     "output_type": "execute_result"
    }
   ],
   "source": [
    "test_data.shape"
   ]
  },
  {
   "cell_type": "code",
   "execution_count": 41,
   "metadata": {},
   "outputs": [],
   "source": [
    "test_sequences, test_sequence_labels = create_data_sequences(test_data, test_labels, seq_length=5)\n",
    "\n",
    "model.eval()  # Set model to evaluation mode\n",
    "with torch.no_grad():\n",
    "    test_data_pt = torch.tensor(test_data, dtype=torch.float)\n",
    "\n",
    "    test_sequences = test_sequences.to(device)\n",
    "    \n",
    "    test_outputs = model(test_sequences)\n",
    "\n",
    "    predicted_classes = torch.argmax(test_outputs, dim=1)"
   ]
  },
  {
   "cell_type": "code",
   "execution_count": 37,
   "metadata": {},
   "outputs": [
    {
     "data": {
      "text/plain": [
       "tensor(1)"
      ]
     },
     "execution_count": 37,
     "metadata": {},
     "output_type": "execute_result"
    }
   ],
   "source": []
  },
  {
   "cell_type": "code",
   "execution_count": 42,
   "metadata": {},
   "outputs": [
    {
     "data": {
      "text/plain": [
       "tensor([0, 1, 2, 3], device='cuda:0')"
      ]
     },
     "execution_count": 42,
     "metadata": {},
     "output_type": "execute_result"
    }
   ],
   "source": [
    "predicted_classes.unique()"
   ]
  },
  {
   "cell_type": "code",
   "execution_count": 49,
   "metadata": {},
   "outputs": [
    {
     "name": "stdout",
     "output_type": "stream",
     "text": [
      "Accuracy: 0.8106194690265487\n",
      "Micro-averaged F1 score: 0.8106194690265487\n",
      "Macro-averaged F1 score: 0.8584841858877553\n"
     ]
    }
   ],
   "source": [
    "#test_labels_pt = torch.tensor(test_labels - 1, dtype=torch.long)\n",
    "\n",
    "# Compute micro and macro-averaged F1 scores\n",
    "accuracy = accuracy_score(test_sequence_labels-1, predicted_classes.cpu())\n",
    "micro_f1 = f1_score(test_sequence_labels-1, predicted_classes.cpu(), average='micro')\n",
    "macro_f1 = f1_score(test_sequence_labels-1, predicted_classes.cpu(), average='macro')\n",
    "print(f'Accuracy: {accuracy}')\n",
    "print(f'Micro-averaged F1 score: {micro_f1}')\n",
    "print(f'Macro-averaged F1 score: {macro_f1}')"
   ]
  }
 ],
 "metadata": {
  "kernelspec": {
   "display_name": "csds340",
   "language": "python",
   "name": "python3"
  },
  "language_info": {
   "codemirror_mode": {
    "name": "ipython",
    "version": 3
   },
   "file_extension": ".py",
   "mimetype": "text/x-python",
   "name": "python",
   "nbconvert_exporter": "python",
   "pygments_lexer": "ipython3",
   "version": "3.12.7"
  }
 },
 "nbformat": 4,
 "nbformat_minor": 2
}
